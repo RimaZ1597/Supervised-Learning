{
 "cells": [
  {
   "cell_type": "code",
   "execution_count": 27,
   "id": "9e182884-c88f-4f9a-b86e-911b8d5e4857",
   "metadata": {},
   "outputs": [],
   "source": [
    "import pandas as pd\n",
    "import numpy as np\n",
    "from sklearn.model_selection import train_test_split\n",
    "from sklearn.naive_bayes import GaussianNB\n",
    "from sklearn.metrics import accuracy_score, precision_score, recall_score, f1_score"
   ]
  },
  {
   "cell_type": "code",
   "execution_count": 28,
   "id": "d0cff9f1-5a4f-4b4b-b1df-cbf181e5556f",
   "metadata": {},
   "outputs": [
    {
     "data": {
      "text/html": [
       "<div>\n",
       "<style scoped>\n",
       "    .dataframe tbody tr th:only-of-type {\n",
       "        vertical-align: middle;\n",
       "    }\n",
       "\n",
       "    .dataframe tbody tr th {\n",
       "        vertical-align: top;\n",
       "    }\n",
       "\n",
       "    .dataframe thead th {\n",
       "        text-align: right;\n",
       "    }\n",
       "</style>\n",
       "<table border=\"1\" class=\"dataframe\">\n",
       "  <thead>\n",
       "    <tr style=\"text-align: right;\">\n",
       "      <th></th>\n",
       "      <th>PassengerId</th>\n",
       "      <th>Name</th>\n",
       "      <th>Pclass</th>\n",
       "      <th>Sex</th>\n",
       "      <th>Age</th>\n",
       "      <th>SibSp</th>\n",
       "      <th>Parch</th>\n",
       "      <th>Ticket</th>\n",
       "      <th>Fare</th>\n",
       "      <th>Cabin</th>\n",
       "      <th>Embarked</th>\n",
       "      <th>Survived</th>\n",
       "    </tr>\n",
       "  </thead>\n",
       "  <tbody>\n",
       "    <tr>\n",
       "      <th>0</th>\n",
       "      <td>1</td>\n",
       "      <td>Braund, Mr. Owen Harris</td>\n",
       "      <td>3</td>\n",
       "      <td>male</td>\n",
       "      <td>22.0</td>\n",
       "      <td>1</td>\n",
       "      <td>0</td>\n",
       "      <td>A/5 21171</td>\n",
       "      <td>7.2500</td>\n",
       "      <td>NaN</td>\n",
       "      <td>S</td>\n",
       "      <td>0</td>\n",
       "    </tr>\n",
       "    <tr>\n",
       "      <th>1</th>\n",
       "      <td>2</td>\n",
       "      <td>Cumings, Mrs. John Bradley (Florence Briggs Th...</td>\n",
       "      <td>1</td>\n",
       "      <td>female</td>\n",
       "      <td>38.0</td>\n",
       "      <td>1</td>\n",
       "      <td>0</td>\n",
       "      <td>PC 17599</td>\n",
       "      <td>71.2833</td>\n",
       "      <td>C85</td>\n",
       "      <td>C</td>\n",
       "      <td>1</td>\n",
       "    </tr>\n",
       "    <tr>\n",
       "      <th>2</th>\n",
       "      <td>3</td>\n",
       "      <td>Heikkinen, Miss. Laina</td>\n",
       "      <td>3</td>\n",
       "      <td>female</td>\n",
       "      <td>26.0</td>\n",
       "      <td>0</td>\n",
       "      <td>0</td>\n",
       "      <td>STON/O2. 3101282</td>\n",
       "      <td>7.9250</td>\n",
       "      <td>NaN</td>\n",
       "      <td>S</td>\n",
       "      <td>1</td>\n",
       "    </tr>\n",
       "    <tr>\n",
       "      <th>3</th>\n",
       "      <td>4</td>\n",
       "      <td>Futrelle, Mrs. Jacques Heath (Lily May Peel)</td>\n",
       "      <td>1</td>\n",
       "      <td>female</td>\n",
       "      <td>35.0</td>\n",
       "      <td>1</td>\n",
       "      <td>0</td>\n",
       "      <td>113803</td>\n",
       "      <td>53.1000</td>\n",
       "      <td>C123</td>\n",
       "      <td>S</td>\n",
       "      <td>1</td>\n",
       "    </tr>\n",
       "    <tr>\n",
       "      <th>4</th>\n",
       "      <td>5</td>\n",
       "      <td>Allen, Mr. William Henry</td>\n",
       "      <td>3</td>\n",
       "      <td>male</td>\n",
       "      <td>35.0</td>\n",
       "      <td>0</td>\n",
       "      <td>0</td>\n",
       "      <td>373450</td>\n",
       "      <td>8.0500</td>\n",
       "      <td>NaN</td>\n",
       "      <td>S</td>\n",
       "      <td>0</td>\n",
       "    </tr>\n",
       "  </tbody>\n",
       "</table>\n",
       "</div>"
      ],
      "text/plain": [
       "   PassengerId                                               Name  Pclass  \\\n",
       "0            1                            Braund, Mr. Owen Harris       3   \n",
       "1            2  Cumings, Mrs. John Bradley (Florence Briggs Th...       1   \n",
       "2            3                             Heikkinen, Miss. Laina       3   \n",
       "3            4       Futrelle, Mrs. Jacques Heath (Lily May Peel)       1   \n",
       "4            5                           Allen, Mr. William Henry       3   \n",
       "\n",
       "      Sex   Age  SibSp  Parch            Ticket     Fare Cabin Embarked  \\\n",
       "0    male  22.0      1      0         A/5 21171   7.2500   NaN        S   \n",
       "1  female  38.0      1      0          PC 17599  71.2833   C85        C   \n",
       "2  female  26.0      0      0  STON/O2. 3101282   7.9250   NaN        S   \n",
       "3  female  35.0      1      0            113803  53.1000  C123        S   \n",
       "4    male  35.0      0      0            373450   8.0500   NaN        S   \n",
       "\n",
       "   Survived  \n",
       "0         0  \n",
       "1         1  \n",
       "2         1  \n",
       "3         1  \n",
       "4         0  "
      ]
     },
     "execution_count": 28,
     "metadata": {},
     "output_type": "execute_result"
    }
   ],
   "source": [
    "df = pd.read_csv('titanic-1.csv')\n",
    "df.head()"
   ]
  },
  {
   "cell_type": "code",
   "execution_count": 29,
   "id": "c96a2355-61e4-49e3-9de4-886e88a1327f",
   "metadata": {},
   "outputs": [
    {
     "name": "stdout",
     "output_type": "stream",
     "text": [
      "PassengerId      0\n",
      "Name             0\n",
      "Pclass           0\n",
      "Sex              0\n",
      "Age            177\n",
      "SibSp            0\n",
      "Parch            0\n",
      "Ticket           0\n",
      "Fare             0\n",
      "Cabin          687\n",
      "Embarked         2\n",
      "Survived         0\n",
      "dtype: int64\n"
     ]
    }
   ],
   "source": [
    "# Checking Missing Values\n",
    "print(df.isnull().sum())"
   ]
  },
  {
   "cell_type": "code",
   "execution_count": 30,
   "id": "4f50859a-93b3-40c4-b782-4ae59d61388f",
   "metadata": {},
   "outputs": [],
   "source": [
    "# Fill missing values in 'Age' with the median\n",
    "df['Age'].fillna(df['Age'].median(), inplace=True)"
   ]
  },
  {
   "cell_type": "code",
   "execution_count": 31,
   "id": "39b3297b-e898-4930-aee5-0427304a5b48",
   "metadata": {},
   "outputs": [],
   "source": [
    "# Drop rows with missing values in 'Embarked'\n",
    "df.dropna(subset=['Embarked'], inplace=True)"
   ]
  },
  {
   "cell_type": "code",
   "execution_count": 32,
   "id": "3b34a59f-f25a-4ea2-8058-18bee8f31ce6",
   "metadata": {},
   "outputs": [
    {
     "name": "stdout",
     "output_type": "stream",
     "text": [
      "PassengerId      0\n",
      "Name             0\n",
      "Pclass           0\n",
      "Sex              0\n",
      "Age              0\n",
      "SibSp            0\n",
      "Parch            0\n",
      "Ticket           0\n",
      "Fare             0\n",
      "Cabin          687\n",
      "Embarked         0\n",
      "Survived         0\n",
      "dtype: int64\n"
     ]
    }
   ],
   "source": [
    "# Checking Missing Values\n",
    "print(df.isnull().sum())"
   ]
  },
  {
   "cell_type": "code",
   "execution_count": 49,
   "id": "5672b867-d933-4284-93ac-8b022293e929",
   "metadata": {},
   "outputs": [],
   "source": [
    "# One-hot encode categorical features\n",
    "df = pd.get_dummies(df, columns=['Pclass', 'Sex', 'Embarked'], drop_first=True)"
   ]
  },
  {
   "cell_type": "code",
   "execution_count": 33,
   "id": "361b4ee5-0140-4e02-9c04-cb7ace92d5bb",
   "metadata": {},
   "outputs": [],
   "source": [
    "discrete_features = ['Pclass', 'Sex', 'SibSp', 'Parch', 'Embarked']\n",
    "continuous_features = ['Age', 'Fare']"
   ]
  },
  {
   "cell_type": "code",
   "execution_count": 34,
   "id": "56197499-221f-4c56-8c08-ceb262432238",
   "metadata": {},
   "outputs": [
    {
     "name": "stdout",
     "output_type": "stream",
     "text": [
      "Discrete Features: ['Pclass', 'Sex', 'SibSp', 'Parch', 'Embarked']\n",
      "Continuous Features: ['Age', 'Fare']\n"
     ]
    }
   ],
   "source": [
    "print(\"Discrete Features:\", discrete_features)\n",
    "print(\"Continuous Features:\", continuous_features)"
   ]
  },
  {
   "cell_type": "code",
   "execution_count": 35,
   "id": "1d2cb962-09b5-4413-b6d7-5ac335c70b61",
   "metadata": {},
   "outputs": [
    {
     "name": "stdout",
     "output_type": "stream",
     "text": [
      "Prior Probabilities for each class in 'Survived':\n",
      "Survived\n",
      "0    0.617548\n",
      "1    0.382452\n",
      "Name: proportion, dtype: float64\n"
     ]
    }
   ],
   "source": [
    "# Calculate the prior probabilities for each class in the 'Survived' column\n",
    "prior_probabilities = df['Survived'].value_counts(normalize=True)\n",
    "\n",
    "print(\"Prior Probabilities for each class in 'Survived':\")\n",
    "print(prior_probabilities)"
   ]
  },
  {
   "cell_type": "code",
   "execution_count": 36,
   "id": "f5738de6-f461-4b72-87c7-084ac59e5ba3",
   "metadata": {},
   "outputs": [
    {
     "name": "stdout",
     "output_type": "stream",
     "text": [
      "\n",
      "Conditional Probabilities for Discrete Features using crosstab:\n",
      "\n",
      "Pclass:\n",
      "Survived         0         1\n",
      "Pclass                      \n",
      "1         0.373832  0.626168\n",
      "2         0.527174  0.472826\n",
      "3         0.757637  0.242363\n",
      "\n",
      "Sex:\n",
      "Survived         0         1\n",
      "Sex                         \n",
      "female    0.259615  0.740385\n",
      "male      0.811092  0.188908\n",
      "\n",
      "SibSp:\n",
      "Survived         0         1\n",
      "SibSp                       \n",
      "0         0.656766  0.343234\n",
      "1         0.464115  0.535885\n",
      "2         0.535714  0.464286\n",
      "3         0.750000  0.250000\n",
      "4         0.833333  0.166667\n",
      "5         1.000000  0.000000\n",
      "8         1.000000  0.000000\n",
      "\n",
      "Parch:\n",
      "Survived         0         1\n",
      "Parch                       \n",
      "0         0.658284  0.341716\n",
      "1         0.449153  0.550847\n",
      "2         0.500000  0.500000\n",
      "3         0.400000  0.600000\n",
      "4         1.000000  0.000000\n",
      "5         0.800000  0.200000\n",
      "6         1.000000  0.000000\n",
      "\n",
      "Embarked:\n",
      "Survived         0         1\n",
      "Embarked                    \n",
      "C         0.446429  0.553571\n",
      "Q         0.610390  0.389610\n",
      "S         0.663043  0.336957\n"
     ]
    }
   ],
   "source": [
    "# Calculate Conditional Probabilities for Discrete Features\n",
    "conditional_probabilities = {}\n",
    "for feature in discrete_features:\n",
    "    contingency_table = pd.crosstab(df[feature], df['Survived'])\n",
    "    conditional_probabilities[feature] = (contingency_table.div(contingency_table.sum(axis=1), axis=0))\n",
    "\n",
    "print(\"\\nConditional Probabilities for Discrete Features using crosstab:\")\n",
    "for feature in conditional_probabilities:\n",
    "    print(f\"\\n{feature}:\")\n",
    "    print(conditional_probabilities[feature])"
   ]
  },
  {
   "cell_type": "code",
   "execution_count": 47,
   "id": "734c43aa-51d4-412e-a570-1c2095036054",
   "metadata": {},
   "outputs": [
    {
     "name": "stdout",
     "output_type": "stream",
     "text": [
      "Mean and Variance for Continuous Features:\n",
      "Age - Mean: 30.03, Variance: 156.25\n",
      "Fare - Mean: 22.12, Variance: 985.22\n"
     ]
    }
   ],
   "source": [
    "# Calculate mean and variance for continuous features\n",
    "mean_variance = {}\n",
    "for feature in continuous_features:\n",
    "    mean_variance[feature] = df.groupby('Survived')[feature].agg(['mean', 'var'])\n",
    "\n",
    "# Print mean and variance\n",
    "print(\"Mean and Variance for Continuous Features:\")\n",
    "for feature, stats in mean_variance.items():\n",
    "    mean_value = stats['mean'].iloc[0]  # Access the first value\n",
    "    variance_value = stats['var'].iloc[0]  # Access the first value\n",
    "    print(f\"{feature} - Mean: {mean_value:.2f}, Variance: {variance_value:.2f}\")"
   ]
  },
  {
   "cell_type": "code",
   "execution_count": null,
   "id": "c31013c8-5a3c-4753-9939-fd713dac53a8",
   "metadata": {},
   "outputs": [],
   "source": []
  }
 ],
 "metadata": {
  "kernelspec": {
   "display_name": "Python 3 (ipykernel)",
   "language": "python",
   "name": "python3"
  },
  "language_info": {
   "codemirror_mode": {
    "name": "ipython",
    "version": 3
   },
   "file_extension": ".py",
   "mimetype": "text/x-python",
   "name": "python",
   "nbconvert_exporter": "python",
   "pygments_lexer": "ipython3",
   "version": "3.11.7"
  }
 },
 "nbformat": 4,
 "nbformat_minor": 5
}
