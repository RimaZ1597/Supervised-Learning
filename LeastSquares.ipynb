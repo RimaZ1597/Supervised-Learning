{
 "cells": [
  {
   "cell_type": "markdown",
   "metadata": {
    "id": "EPzWbAqykiI4"
   },
   "source": [
    "# Estimating Regression Coefficients Using Least Squares\n",
    "\n",
    "## Theory\n",
    "\n",
    "In linear regression, the relationship between the response variable $y$ and the predictor $X$ is modeled as:\n",
    "\n",
    "$$y = b_0 + b_1X$$\n",
    "\n",
    "Here, $b_0$ represents the intercept (the value of $y$ when $X$ is zero) and $b_1$ represents the slope (the change in $y$ for a unit change in $X$).\n",
    "\n",
    "The objective is to find the coefficients $b_0$ and $b_1$ that minimize the sum of squared residuals, where a residual is the difference between the observed value and the predicted value.\n",
    "\n",
    "### Mathematical Formulation\n",
    "\n",
    "The least squares estimates can be derived by minimizing the residual sum of squares (RSS):\n",
    "\n",
    "$$RSS = \\sum_{i=1}^{n}(y_i - (b_0 + b_1x_i))^2$$\n",
    "\n",
    "Here, $n$ is the number of observations, $y_i$ is the observed value of the response variable for the $i$-th observation, and $x_i$ is the value of the predictor for the $i$-th observation.\n",
    "\n",
    "To find the values of $b_0$ and $b_1$ that minimize the RSS, we take partial derivatives of RSS with respect to $b_0$ and $b_1$ and set them to zero:\n",
    "\n",
    "$$\\frac{\\partial RSS}{\\partial b_1} = -2\\sum_{i=1}^{n}x_i(y_i - (b_0 + b_1x_i)) = 0$$\n",
    "$$\\frac{\\partial RSS}{\\partial b_0} = -2\\sum_{i=1}^{n}(y_i - (b_0 + b_1x_i)) = 0$$\n",
    "\n",
    "From these equations, we can solve for $b_1$ and $b_0$:\n",
    "\n",
    "$$b_1 = \\frac{\\sum_{i=1}^{n}(x_i - \\overline{x})(y_i - \\overline{y})}{\\sum_{i=1}^{n}(x_i - \\overline{x})^2}$$\n",
    "$$b_0 = \\overline{y} - b_1\\overline{x}$$\n",
    "\n",
    "Here, $\\overline{x}$ and $\\overline{y}$ represent the means of $X$ and $y$, respectively.\n",
    "\n",
    "## Python Implementation\n",
    "\n",
    "Now, let's implement the least squares method in Python to estimate the regression coefficients.\n",
    "\n",
    "```python"
   ]
  },
  {
   "cell_type": "code",
   "execution_count": 1,
   "metadata": {
    "colab": {
     "base_uri": "https://localhost:8080/"
    },
    "id": "rbCRoo_7ksS7",
    "outputId": "37af7752-cd42-4431-cf8f-e2ab3dc7b5dc"
   },
   "outputs": [
    {
     "name": "stdout",
     "output_type": "stream",
     "text": [
      "Estimated coefficients (Least Squares): b0 = 2.2, b1 = 0.6\n"
     ]
    }
   ],
   "source": [
    "\n",
    "import numpy as np\n",
    "\n",
    "# Sample data\n",
    "X = np.array([1, 2, 3, 4, 5])\n",
    "Y = np.array([2, 4, 5, 4, 5])\n",
    "\n",
    "# Estimating coefficients using least squares\n",
    "X_mean = np.mean(X)\n",
    "Y_mean = np.mean(Y)\n",
    "\n",
    "numerator = np.sum((X - X_mean) * (Y - Y_mean))\n",
    "denominator = np.sum((X - X_mean)**2)\n",
    "\n",
    "b1 = numerator / denominator\n",
    "b0 = Y_mean - b1 * X_mean\n",
    "\n",
    "print(f\"Estimated coefficients (Least Squares): b0 = {b0}, b1 = {b1}\")"
   ]
  }
 ],
 "metadata": {
  "colab": {
   "provenance": []
  },
  "kernelspec": {
   "display_name": "Python 3 (ipykernel)",
   "language": "python",
   "name": "python3"
  },
  "language_info": {
   "codemirror_mode": {
    "name": "ipython",
    "version": 3
   },
   "file_extension": ".py",
   "mimetype": "text/x-python",
   "name": "python",
   "nbconvert_exporter": "python",
   "pygments_lexer": "ipython3",
   "version": "3.11.7"
  }
 },
 "nbformat": 4,
 "nbformat_minor": 4
}
